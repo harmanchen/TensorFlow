{
 "cells": [
  {
   "cell_type": "code",
   "execution_count": 13,
   "id": "66a0fcf5",
   "metadata": {},
   "outputs": [],
   "source": [
    "import tensorflow as tf\n",
    "import numpy as np\n",
    "from tensorflow.keras.models import Sequential\n",
    "from tensorflow.keras.layers import Dense, Dropout, Activation, Flatten, Conv2D, MaxPooling2D\n",
    "import pickle"
   ]
  },
  {
   "cell_type": "code",
   "execution_count": 14,
   "id": "156dd841",
   "metadata": {},
   "outputs": [],
   "source": [
    "X = pickle.load(open(\"X.pickle\", \"rb\"))\n",
    "y = np.array(pickle.load(open(\"y.pickle\", \"rb\")))\n",
    "X = X / 255.0"
   ]
  },
  {
   "cell_type": "code",
   "execution_count": 16,
   "id": "1c7623e5",
   "metadata": {},
   "outputs": [
    {
     "name": "stdout",
     "output_type": "stream",
     "text": [
      "Epoch 1/10\n",
      "702/702 [==============================] - 85s 120ms/step - loss: 0.6451 - accuracy: 0.6219 - val_loss: 0.6272 - val_accuracy: 0.6477\n",
      "Epoch 2/10\n",
      "702/702 [==============================] - 75s 107ms/step - loss: 0.5542 - accuracy: 0.7214 - val_loss: 0.5609 - val_accuracy: 0.7218\n",
      "Epoch 3/10\n",
      "702/702 [==============================] - 76s 108ms/step - loss: 0.4928 - accuracy: 0.7615 - val_loss: 0.5138 - val_accuracy: 0.7587\n",
      "Epoch 4/10\n",
      "702/702 [==============================] - 74s 106ms/step - loss: 0.4595 - accuracy: 0.7837 - val_loss: 0.5127 - val_accuracy: 0.7599\n",
      "Epoch 5/10\n",
      "702/702 [==============================] - 69s 99ms/step - loss: 0.4291 - accuracy: 0.8007 - val_loss: 0.5111 - val_accuracy: 0.7683\n",
      "Epoch 6/10\n",
      "702/702 [==============================] - 69s 98ms/step - loss: 0.4086 - accuracy: 0.8130 - val_loss: 0.4823 - val_accuracy: 0.7776\n",
      "Epoch 7/10\n",
      "702/702 [==============================] - 73s 104ms/step - loss: 0.3850 - accuracy: 0.8268 - val_loss: 0.5004 - val_accuracy: 0.7780\n",
      "Epoch 8/10\n",
      "702/702 [==============================] - 71s 101ms/step - loss: 0.3651 - accuracy: 0.8359 - val_loss: 0.4858 - val_accuracy: 0.7844\n",
      "Epoch 9/10\n",
      "702/702 [==============================] - 68s 97ms/step - loss: 0.3434 - accuracy: 0.8474 - val_loss: 0.4838 - val_accuracy: 0.7796\n",
      "Epoch 10/10\n",
      "702/702 [==============================] - 68s 97ms/step - loss: 0.3340 - accuracy: 0.8512 - val_loss: 0.4865 - val_accuracy: 0.7920\n"
     ]
    },
    {
     "data": {
      "text/plain": [
       "<keras.callbacks.History at 0x1790a2e91f0>"
      ]
     },
     "execution_count": 16,
     "metadata": {},
     "output_type": "execute_result"
    }
   ],
   "source": [
    "model = Sequential()\n",
    "model.add(Conv2D(64, (3,3), input_shape=X.shape[1:]))\n",
    "model.add(Activation(\"relu\"))\n",
    "model.add(MaxPooling2D(pool_size=(2,2)))\n",
    "\n",
    "model.add(Conv2D(64, (3,3)))\n",
    "model.add(Activation(\"relu\"))\n",
    "model.add(MaxPooling2D(pool_size=(2,2)))\n",
    "\n",
    "model.add(Flatten())\n",
    "model.add(Dense(64))\n",
    "\n",
    "model.add(Dense(1))\n",
    "model.add(Activation(\"sigmoid\"))\n",
    "\n",
    "model.compile(loss=\"binary_crossentropy\",\n",
    "             optimizer=\"adam\",\n",
    "             metrics=['accuracy'])\n",
    "\n",
    "model.fit(X, y, batch_size=32, epochs=10, validation_split=0.1)"
   ]
  }
 ],
 "metadata": {
  "kernelspec": {
   "display_name": "Python 3",
   "language": "python",
   "name": "python3"
  },
  "language_info": {
   "codemirror_mode": {
    "name": "ipython",
    "version": 3
   },
   "file_extension": ".py",
   "mimetype": "text/x-python",
   "name": "python",
   "nbconvert_exporter": "python",
   "pygments_lexer": "ipython3",
   "version": "3.8.8"
  }
 },
 "nbformat": 4,
 "nbformat_minor": 5
}
