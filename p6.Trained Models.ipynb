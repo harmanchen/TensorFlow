{
 "cells": [
  {
   "cell_type": "code",
   "execution_count": 1,
   "id": "d08e1cf4",
   "metadata": {},
   "outputs": [],
   "source": [
    "import cv2\n",
    "import tensorflow as tf"
   ]
  },
  {
   "cell_type": "code",
   "execution_count": 2,
   "id": "257d821e",
   "metadata": {},
   "outputs": [],
   "source": [
    "CATEGORIES = [\"Dog\", \"Cat\"]"
   ]
  },
  {
   "cell_type": "code",
   "execution_count": 3,
   "id": "159796e0",
   "metadata": {},
   "outputs": [],
   "source": [
    "def prepare(filepath):\n",
    "    IMG_SIZE = 70\n",
    "    img_array = cv2.imread(filepath, cv2.IMREAD_GRAYSCALE)\n",
    "    new_array = cv2.resize(img_array, (IMG_SIZE, IMG_SIZE))\n",
    "    return new_array.reshape(1, IMG_SIZE, IMG_SIZE, 1)"
   ]
  },
  {
   "cell_type": "code",
   "execution_count": 4,
   "id": "d87841cd",
   "metadata": {},
   "outputs": [],
   "source": [
    "model = tf.keras.models.load_model(\"64x3-CNN.model\")"
   ]
  },
  {
   "cell_type": "code",
   "execution_count": 5,
   "id": "b179be96",
   "metadata": {},
   "outputs": [],
   "source": [
    "def prepare_nd_predict(path_list):\n",
    "    for path in path_list:\n",
    "        prediction = model.predict(prepare(path))\n",
    "        print(' '.join([path, str(prediction[0][0]), CATEGORIES[int(prediction[0][0])]]))"
   ]
  },
  {
   "cell_type": "code",
   "execution_count": 7,
   "id": "b0fc0d57",
   "metadata": {},
   "outputs": [
    {
     "name": "stdout",
     "output_type": "stream",
     "text": [
      "dog.jpg 0.0 Dog\n",
      "cat.jpg 3.5800514e-19 Dog\n",
      "dog.6673.jpg 0.0 Dog\n",
      "cat.1777.jpg 1.0 Cat\n",
      "dog.6674.jpg 0.0 Dog\n",
      "cat.1778.jpg 0.0 Dog\n",
      "dog.6681.jpg 0.0 Dog\n",
      "cat.1779.jpg 2.302227e-06 Dog\n"
     ]
    }
   ],
   "source": [
    "list = [\"dog.jpg\",\n",
    "        \"cat.jpg\",\n",
    "        \"dog.6673.jpg\",\n",
    "        \"cat.1777.jpg\",\n",
    "        \"dog.6674.jpg\",\n",
    "        \"cat.1778.jpg\",\n",
    "        \"dog.6681.jpg\",\n",
    "        \"cat.1779.jpg\"]\n",
    "prepare_nd_predict(list)"
   ]
  }
 ],
 "metadata": {
  "kernelspec": {
   "display_name": "tf-gpu",
   "language": "python",
   "name": "tf-gpu"
  },
  "language_info": {
   "codemirror_mode": {
    "name": "ipython",
    "version": 3
   },
   "file_extension": ".py",
   "mimetype": "text/x-python",
   "name": "python",
   "nbconvert_exporter": "python",
   "pygments_lexer": "ipython3",
   "version": "3.9.7"
  }
 },
 "nbformat": 4,
 "nbformat_minor": 5
}
